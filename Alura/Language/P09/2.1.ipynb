{
  "cells": [
    {
      "cell_type": "code",
      "execution_count": null,
      "metadata": {
        "colab": {
          "base_uri": "https://localhost:8080/",
          "height": 85
        },
        "colab_type": "code",
        "id": "i92eaEWHL_tu",
        "outputId": "c0d491e1-232d-4ebd-c8f8-ae749cc425ae"
      },
      "outputs": [],
      "source": [
        "idade1 = 39\n",
        "idade2 = 30\n",
        "idade3 = 27\n",
        "idade4 = 18\n",
        "\n",
        "print(idade1)\n",
        "print(idade2)\n",
        "print(idade3)\n",
        "print(idade4)"
      ]
    },
    {
      "cell_type": "code",
      "execution_count": null,
      "metadata": {
        "colab": {},
        "colab_type": "code",
        "id": "27g6sNsIMZEL"
      },
      "outputs": [],
      "source": [
        "idades = [39, 30, 27, 18]"
      ]
    },
    {
      "cell_type": "code",
      "execution_count": null,
      "metadata": {
        "colab": {
          "base_uri": "https://localhost:8080/",
          "height": 34
        },
        "colab_type": "code",
        "id": "nMoUaGF8MmuM",
        "outputId": "173b7453-3eed-48f3-e93f-2e15911eba3f"
      },
      "outputs": [],
      "source": [
        "type(idades)"
      ]
    },
    {
      "cell_type": "code",
      "execution_count": null,
      "metadata": {
        "colab": {
          "base_uri": "https://localhost:8080/",
          "height": 34
        },
        "colab_type": "code",
        "id": "693125bLMoQo",
        "outputId": "1ef39f03-fef6-453d-e569-14a8a4c63f59"
      },
      "outputs": [],
      "source": [
        "len(idades)"
      ]
    },
    {
      "cell_type": "code",
      "execution_count": null,
      "metadata": {
        "colab": {
          "base_uri": "https://localhost:8080/",
          "height": 34
        },
        "colab_type": "code",
        "id": "HhRSkKaNM70v",
        "outputId": "40450643-dc8e-46cf-d8d5-3db65e04fc92"
      },
      "outputs": [],
      "source": [
        "idades[0]"
      ]
    },
    {
      "cell_type": "code",
      "execution_count": null,
      "metadata": {
        "colab": {
          "base_uri": "https://localhost:8080/",
          "height": 34
        },
        "colab_type": "code",
        "id": "7Wra5jZLM_6e",
        "outputId": "af711792-7ea1-4d77-b86c-451468c5ac34"
      },
      "outputs": [],
      "source": [
        "idades"
      ]
    },
    {
      "cell_type": "code",
      "execution_count": null,
      "metadata": {
        "colab": {
          "base_uri": "https://localhost:8080/",
          "height": 68
        },
        "colab_type": "code",
        "id": "NXyDZcsZNBJm",
        "outputId": "23ded952-0d37-4757-fd65-874fc313d2e8"
      },
      "outputs": [],
      "source": [
        "print(idades[1])\n",
        "print(idades[2])\n",
        "print(idades[3])"
      ]
    },
    {
      "cell_type": "code",
      "execution_count": null,
      "metadata": {
        "colab": {},
        "colab_type": "code",
        "id": "60CS-6vnNEzX"
      },
      "outputs": [],
      "source": [
        "idades.append(15)"
      ]
    },
    {
      "cell_type": "code",
      "execution_count": null,
      "metadata": {
        "colab": {
          "base_uri": "https://localhost:8080/",
          "height": 34
        },
        "colab_type": "code",
        "id": "LgNGaf7FNSr-",
        "outputId": "ab98ddb0-4771-4fa1-83c3-8fec761f63f2"
      },
      "outputs": [],
      "source": [
        "idades"
      ]
    },
    {
      "cell_type": "code",
      "execution_count": null,
      "metadata": {
        "colab": {
          "base_uri": "https://localhost:8080/",
          "height": 34
        },
        "colab_type": "code",
        "id": "PqFCqcOvNT7h",
        "outputId": "c90b09b5-788e-4d6b-8608-aa28e3fa7b12"
      },
      "outputs": [],
      "source": [
        "idades[4]"
      ]
    },
    {
      "cell_type": "code",
      "execution_count": null,
      "metadata": {
        "colab": {
          "base_uri": "https://localhost:8080/",
          "height": 162
        },
        "colab_type": "code",
        "id": "aCzxDZ0CNVti",
        "outputId": "68318b7c-5a0e-4e70-e2f8-7f6e7fc836f2"
      },
      "outputs": [],
      "source": [
        "idades[5]"
      ]
    },
    {
      "cell_type": "code",
      "execution_count": null,
      "metadata": {
        "colab": {
          "base_uri": "https://localhost:8080/",
          "height": 102
        },
        "colab_type": "code",
        "id": "AXKjngwvNXLM",
        "outputId": "9dbce7fe-c444-4953-b2ff-146aae1a6c76"
      },
      "outputs": [],
      "source": [
        "for idade in idades:\n",
        "  print(idade)"
      ]
    },
    {
      "cell_type": "code",
      "execution_count": null,
      "metadata": {
        "colab": {},
        "colab_type": "code",
        "id": "e086OjeaNmWj"
      },
      "outputs": [],
      "source": [
        "idades.remove(30)"
      ]
    },
    {
      "cell_type": "code",
      "execution_count": null,
      "metadata": {
        "colab": {
          "base_uri": "https://localhost:8080/",
          "height": 34
        },
        "colab_type": "code",
        "id": "5A6pLLh4No8s",
        "outputId": "da5bf327-6e03-4165-cc1e-5a92ad3397c1"
      },
      "outputs": [],
      "source": [
        "idades"
      ]
    },
    {
      "cell_type": "code",
      "execution_count": null,
      "metadata": {
        "colab": {
          "base_uri": "https://localhost:8080/",
          "height": 162
        },
        "colab_type": "code",
        "id": "ojsePmRwNpy2",
        "outputId": "c4fd2036-f735-427a-b629-3d5e916fa81d"
      },
      "outputs": [],
      "source": [
        "idades.remove(30)"
      ]
    },
    {
      "cell_type": "code",
      "execution_count": null,
      "metadata": {
        "colab": {},
        "colab_type": "code",
        "id": "kkdK3t6nNsXW"
      },
      "outputs": [],
      "source": [
        "idades.append(15)"
      ]
    },
    {
      "cell_type": "code",
      "execution_count": null,
      "metadata": {
        "colab": {
          "base_uri": "https://localhost:8080/",
          "height": 34
        },
        "colab_type": "code",
        "id": "caaWvENvNv8N",
        "outputId": "31438d95-b7cd-4ef8-8ab2-f743d430ab30"
      },
      "outputs": [],
      "source": [
        "idades"
      ]
    },
    {
      "cell_type": "code",
      "execution_count": null,
      "metadata": {
        "colab": {},
        "colab_type": "code",
        "id": "IZC0ENA1Nwso"
      },
      "outputs": [],
      "source": [
        "idades.remove(15)"
      ]
    },
    {
      "cell_type": "code",
      "execution_count": null,
      "metadata": {
        "colab": {
          "base_uri": "https://localhost:8080/",
          "height": 34
        },
        "colab_type": "code",
        "id": "80fchrRGNx4A",
        "outputId": "f258feb2-c547-47eb-c18a-ae622c45320c"
      },
      "outputs": [],
      "source": [
        "idades"
      ]
    },
    {
      "cell_type": "code",
      "execution_count": null,
      "metadata": {
        "colab": {
          "base_uri": "https://localhost:8080/",
          "height": 34
        },
        "colab_type": "code",
        "id": "yNWCUQupNycy",
        "outputId": "8ab8ebba-64a5-4e8d-c5b3-646d5d189d4d"
      },
      "outputs": [],
      "source": [
        "idades.append(27)\n",
        "idades.remove(27)\n",
        "idades"
      ]
    },
    {
      "cell_type": "code",
      "execution_count": null,
      "metadata": {
        "colab": {
          "base_uri": "https://localhost:8080/",
          "height": 34
        },
        "colab_type": "code",
        "id": "Kot_FAOkN3g3",
        "outputId": "3882fb84-0ee9-4a8c-a941-dbd99df12e21"
      },
      "outputs": [],
      "source": [
        "28 in idades"
      ]
    },
    {
      "cell_type": "code",
      "execution_count": null,
      "metadata": {
        "colab": {
          "base_uri": "https://localhost:8080/",
          "height": 34
        },
        "colab_type": "code",
        "id": "DMmSks6eOmaX",
        "outputId": "9c95865e-6478-4171-baf3-fba15ea9f368"
      },
      "outputs": [],
      "source": [
        "15 in idades"
      ]
    },
    {
      "cell_type": "code",
      "execution_count": null,
      "metadata": {
        "colab": {},
        "colab_type": "code",
        "id": "N01sbE4xOoAF"
      },
      "outputs": [],
      "source": [
        "if 15 in idades:\n",
        "  idades.remove(15)"
      ]
    },
    {
      "cell_type": "code",
      "execution_count": null,
      "metadata": {
        "colab": {
          "base_uri": "https://localhost:8080/",
          "height": 34
        },
        "colab_type": "code",
        "id": "U4Ozd7ZxOukR",
        "outputId": "e5f2a778-79b3-465a-c35b-52165b801d4a"
      },
      "outputs": [],
      "source": [
        "idades"
      ]
    },
    {
      "cell_type": "code",
      "execution_count": null,
      "metadata": {
        "colab": {},
        "colab_type": "code",
        "id": "SMgSWfVsOvrr"
      },
      "outputs": [],
      "source": [
        "if 28 in idades:\n",
        "  idades.remove(28)"
      ]
    },
    {
      "cell_type": "code",
      "execution_count": null,
      "metadata": {
        "colab": {
          "base_uri": "https://localhost:8080/",
          "height": 34
        },
        "colab_type": "code",
        "id": "feOCw2UEOzaf",
        "outputId": "3dd5c2c3-5900-44a2-f03e-3b10533ebe72"
      },
      "outputs": [],
      "source": [
        "idades"
      ]
    },
    {
      "cell_type": "code",
      "execution_count": null,
      "metadata": {
        "colab": {
          "base_uri": "https://localhost:8080/",
          "height": 34
        },
        "colab_type": "code",
        "id": "v9GOmJkDO0QH",
        "outputId": "f1c52320-0c6d-4040-d6aa-e25e9dded507"
      },
      "outputs": [],
      "source": [
        "idades.append(19)\n",
        "idades"
      ]
    },
    {
      "cell_type": "code",
      "execution_count": null,
      "metadata": {
        "colab": {
          "base_uri": "https://localhost:8080/",
          "height": 34
        },
        "colab_type": "code",
        "id": "EXZzTRCWO6LU",
        "outputId": "7fdd03d9-11e1-4959-ad13-1cd9c893e708"
      },
      "outputs": [],
      "source": [
        "idades.insert(0, 20)\n",
        "idades"
      ]
    },
    {
      "cell_type": "code",
      "execution_count": null,
      "metadata": {
        "colab": {
          "base_uri": "https://localhost:8080/",
          "height": 34
        },
        "colab_type": "code",
        "id": "yQ6QIHbVPDJm",
        "outputId": "ed2ee9e6-89be-43ce-84b6-d670f89072e9"
      },
      "outputs": [],
      "source": [
        "idades = [20, 39, 18]\n",
        "idades"
      ]
    },
    {
      "cell_type": "code",
      "execution_count": null,
      "metadata": {
        "colab": {},
        "colab_type": "code",
        "id": "1x5IZ3LxPKFw"
      },
      "outputs": [],
      "source": [
        "idades.append([27, 19])"
      ]
    },
    {
      "cell_type": "code",
      "execution_count": null,
      "metadata": {
        "colab": {
          "base_uri": "https://localhost:8080/",
          "height": 34
        },
        "colab_type": "code",
        "id": "pbjqVYWcPNfa",
        "outputId": "12daf065-e911-4856-9e79-7bd126650158"
      },
      "outputs": [],
      "source": [
        "idades"
      ]
    },
    {
      "cell_type": "code",
      "execution_count": null,
      "metadata": {
        "colab": {
          "base_uri": "https://localhost:8080/",
          "height": 85
        },
        "colab_type": "code",
        "id": "YJndRY-ZPTb8",
        "outputId": "603d54aa-483d-413c-e09a-63fde0c63d1a"
      },
      "outputs": [],
      "source": [
        "for elemento in idades:\n",
        "  print(\"Recebi o elemento\", elemento)"
      ]
    },
    {
      "cell_type": "code",
      "execution_count": null,
      "metadata": {
        "colab": {
          "base_uri": "https://localhost:8080/",
          "height": 34
        },
        "colab_type": "code",
        "id": "Rt1JRcrIPZVL",
        "outputId": "0a179f7c-485d-4c40-9da4-8d0f4e742832"
      },
      "outputs": [],
      "source": [
        "idades = [20, 39, 18]\n",
        "idades.extend([27, 19])\n",
        "idades"
      ]
    },
    {
      "cell_type": "code",
      "execution_count": null,
      "metadata": {
        "colab": {
          "base_uri": "https://localhost:8080/",
          "height": 102
        },
        "colab_type": "code",
        "id": "2TqBUj41PwzS",
        "outputId": "ca968eee-7d9e-4c05-934c-05cda5c05282"
      },
      "outputs": [],
      "source": [
        "for idade in idades:\n",
        "  print(idade + 1)"
      ]
    },
    {
      "cell_type": "code",
      "execution_count": null,
      "metadata": {
        "colab": {
          "base_uri": "https://localhost:8080/",
          "height": 34
        },
        "colab_type": "code",
        "id": "-zU67OikQCJq",
        "outputId": "9450216c-d41d-408b-e42e-ce3ac724189b"
      },
      "outputs": [],
      "source": [
        "idades_no_ano_que_vem = []\n",
        "for idade in idades:\n",
        "  idades_no_ano_que_vem.append(idade+1)\n",
        "idades_no_ano_que_vem"
      ]
    },
    {
      "cell_type": "code",
      "execution_count": null,
      "metadata": {
        "colab": {
          "base_uri": "https://localhost:8080/",
          "height": 34
        },
        "colab_type": "code",
        "id": "P50Oyp-EQQrC",
        "outputId": "e82987c1-a14a-4034-92dc-7ddadc93f2c4"
      },
      "outputs": [],
      "source": [
        "idades_no_ano_que_vem = [idade+1 for idade in idades]\n",
        "idades_no_ano_que_vem"
      ]
    },
    {
      "cell_type": "code",
      "execution_count": null,
      "metadata": {
        "colab": {
          "base_uri": "https://localhost:8080/",
          "height": 34
        },
        "colab_type": "code",
        "id": "QdPT5ougQmvS",
        "outputId": "a1485d31-95f8-4fb9-a869-8bd87a84d6ce"
      },
      "outputs": [],
      "source": [
        "[idade for idade in idades if idade > 21]"
      ]
    },
    {
      "cell_type": "code",
      "execution_count": null,
      "metadata": {
        "colab": {
          "base_uri": "https://localhost:8080/",
          "height": 34
        },
        "colab_type": "code",
        "id": "25Mg6X9zQ-U5",
        "outputId": "4ac8565f-715b-4be7-8f16-fc6a3b628613"
      },
      "outputs": [],
      "source": [
        "idades"
      ]
    },
    {
      "cell_type": "code",
      "execution_count": null,
      "metadata": {
        "colab": {
          "base_uri": "https://localhost:8080/",
          "height": 34
        },
        "colab_type": "code",
        "id": "feAiRsuTRAQ0",
        "outputId": "6e4dfa9e-acd0-4e82-dd55-f9c151b31717"
      },
      "outputs": [],
      "source": [
        "def proximo_ano(idade):\n",
        "  return idade+1\n",
        "\n",
        "[proximo_ano(idade) for idade in idades if idade > 21]"
      ]
    },
    {
      "cell_type": "code",
      "execution_count": null,
      "metadata": {
        "colab": {},
        "colab_type": "code",
        "id": "zHFn9PYHSY3Z"
      },
      "outputs": [],
      "source": [
        "def faz_processamento_de_visualizacao(lista):\n",
        "  print(len(lista))\n",
        "  lista.append(13)"
      ]
    },
    {
      "cell_type": "code",
      "execution_count": null,
      "metadata": {
        "colab": {
          "base_uri": "https://localhost:8080/",
          "height": 51
        },
        "colab_type": "code",
        "id": "7nWLQ7t-SqT3",
        "outputId": "1047efb7-feb3-4ef5-e9ee-d387d3a7b3a8"
      },
      "outputs": [],
      "source": [
        "idades = [16, 21, 29, 56, 43]\n",
        "faz_processamento_de_visualizacao(idades)\n",
        "idades"
      ]
    },
    {
      "cell_type": "code",
      "execution_count": null,
      "metadata": {
        "colab": {},
        "colab_type": "code",
        "id": "k8n9XUouSvXc"
      },
      "outputs": [],
      "source": [
        "def faz_processamento_de_visualizacao(lista = []):\n",
        "  print(len(lista))\n",
        "  print(lista)\n",
        "  lista.append(13)"
      ]
    },
    {
      "cell_type": "code",
      "execution_count": null,
      "metadata": {
        "colab": {
          "base_uri": "https://localhost:8080/",
          "height": 51
        },
        "colab_type": "code",
        "id": "p-KkKf-6Tplr",
        "outputId": "942b9a8b-296d-4e2a-89f1-3885e59b6a70"
      },
      "outputs": [],
      "source": [
        "faz_processamento_de_visualizacao()"
      ]
    },
    {
      "cell_type": "code",
      "execution_count": null,
      "metadata": {
        "colab": {
          "base_uri": "https://localhost:8080/",
          "height": 51
        },
        "colab_type": "code",
        "id": "29p5f7fOTs9h",
        "outputId": "9784811e-4b84-450e-9040-6644a05c64ff"
      },
      "outputs": [],
      "source": [
        "faz_processamento_de_visualizacao()"
      ]
    },
    {
      "cell_type": "code",
      "execution_count": null,
      "metadata": {
        "colab": {
          "base_uri": "https://localhost:8080/",
          "height": 51
        },
        "colab_type": "code",
        "id": "DWP6B6DuTu0j",
        "outputId": "585bf5ff-7df8-4e96-c2e6-53d30b35e4bd"
      },
      "outputs": [],
      "source": [
        "faz_processamento_de_visualizacao()"
      ]
    },
    {
      "cell_type": "code",
      "execution_count": null,
      "metadata": {
        "colab": {
          "base_uri": "https://localhost:8080/",
          "height": 51
        },
        "colab_type": "code",
        "id": "HYbSLIiSTwOB",
        "outputId": "dcae48ae-0be6-4f48-d0b6-c39cbf23f6ca"
      },
      "outputs": [],
      "source": [
        "faz_processamento_de_visualizacao()"
      ]
    },
    {
      "cell_type": "code",
      "execution_count": null,
      "metadata": {
        "colab": {},
        "colab_type": "code",
        "id": "vS-8-DHiTxdh"
      },
      "outputs": [],
      "source": [
        "def faz_processamento_de_visualizacao(lista = list()):\n",
        "  print(len(lista))\n",
        "  print(lista)\n",
        "  lista.append(13)"
      ]
    },
    {
      "cell_type": "code",
      "execution_count": null,
      "metadata": {
        "colab": {
          "base_uri": "https://localhost:8080/",
          "height": 85
        },
        "colab_type": "code",
        "id": "lCMngXMGUKli",
        "outputId": "113fdde7-307e-4659-d01a-e09dfaf39d14"
      },
      "outputs": [],
      "source": [
        "faz_processamento_de_visualizacao()\n",
        "faz_processamento_de_visualizacao()"
      ]
    },
    {
      "cell_type": "code",
      "execution_count": null,
      "metadata": {
        "colab": {},
        "colab_type": "code",
        "id": "5sMp0XuKUMVf"
      },
      "outputs": [],
      "source": [
        "def faz_processamento_de_visualizacao(lista = None):\n",
        "  if lista == None:\n",
        "    lista = list()\n",
        "  print(len(lista))\n",
        "  print(lista)\n",
        "  lista.append(13)"
      ]
    },
    {
      "cell_type": "code",
      "execution_count": null,
      "metadata": {
        "colab": {
          "base_uri": "https://localhost:8080/",
          "height": 151
        },
        "colab_type": "code",
        "id": "2LxsmPtaUU-D",
        "outputId": "f364267c-5a08-4860-c5b6-edf36b2e4061"
      },
      "outputs": [],
      "source": [
        "faz_processamento_de_visualizacao()\n",
        "faz_processamento_de_visualizacao()\n",
        "faz_processamento_de_visualizacao()\n",
        "faz_processamento_de_visualizacao()"
      ]
    },
    {
      "cell_type": "markdown",
      "metadata": {
        "colab_type": "text",
        "id": "nSLRH36CABiH"
      },
      "source": [
        "# Objetos próprios"
      ]
    },
    {
      "cell_type": "code",
      "execution_count": null,
      "metadata": {
        "colab": {},
        "colab_type": "code",
        "id": "xD-vMk2iUYst"
      },
      "outputs": [],
      "source": [
        "class ContaCorrente:\n",
        "  \n",
        "  def __init__(self, codigo):\n",
        "    self.codigo = codigo\n",
        "    self.saldo = 0\n",
        "\n",
        "  def deposita(self, valor):\n",
        "    self.saldo += valor\n",
        "    \n",
        "  def __str__(self):\n",
        "    return \"[>>Codigo {} Saldo {}<<]\".format(self.codigo, self.saldo)\n",
        "  "
      ]
    },
    {
      "cell_type": "code",
      "execution_count": null,
      "metadata": {
        "colab": {
          "base_uri": "https://localhost:8080/",
          "height": 34
        },
        "colab_type": "code",
        "id": "iX4AWuRnAoI-",
        "outputId": "6ad0dbb9-bfa0-46b3-9ba6-98866721fe9c"
      },
      "outputs": [],
      "source": [
        "conta_do_gui = ContaCorrente(15)\n",
        "print(conta_do_gui)"
      ]
    },
    {
      "cell_type": "code",
      "execution_count": null,
      "metadata": {
        "colab": {
          "base_uri": "https://localhost:8080/",
          "height": 34
        },
        "colab_type": "code",
        "id": "34S7rISWAtDp",
        "outputId": "39f4be9e-d3ad-4c8a-dba9-bd8b8fb5f724"
      },
      "outputs": [],
      "source": [
        "conta_do_gui.deposita(500)\n",
        "print(conta_do_gui)"
      ]
    },
    {
      "cell_type": "code",
      "execution_count": null,
      "metadata": {
        "colab": {
          "base_uri": "https://localhost:8080/",
          "height": 34
        },
        "colab_type": "code",
        "id": "RT5bL1mwAyFv",
        "outputId": "86129672-500a-4a31-fe9e-7dbef43b3903"
      },
      "outputs": [],
      "source": [
        "conta_da_dani = ContaCorrente(47685)\n",
        "conta_da_dani.deposita(1000)\n",
        "print(conta_da_dani)"
      ]
    },
    {
      "cell_type": "code",
      "execution_count": null,
      "metadata": {
        "colab": {
          "base_uri": "https://localhost:8080/",
          "height": 51
        },
        "colab_type": "code",
        "id": "a6vhFnxqA5Tb",
        "outputId": "0b39017c-8d8f-4de4-f9d2-6b1d6b15f4ec"
      },
      "outputs": [],
      "source": [
        "contas = [conta_do_gui, conta_da_dani]\n",
        "for conta in contas:\n",
        "  print(conta)"
      ]
    },
    {
      "cell_type": "code",
      "execution_count": null,
      "metadata": {
        "colab": {},
        "colab_type": "code",
        "id": "X3zR5sx8A-_J"
      },
      "outputs": [],
      "source": [
        "contas = [conta_do_gui, conta_da_dani, conta_do_gui]"
      ]
    },
    {
      "cell_type": "code",
      "execution_count": null,
      "metadata": {
        "colab": {
          "base_uri": "https://localhost:8080/",
          "height": 34
        },
        "colab_type": "code",
        "id": "UKIQ1bkMBVk8",
        "outputId": "4f2e2703-d559-4182-9771-c72293d8ef47"
      },
      "outputs": [],
      "source": [
        "print(contas[0])"
      ]
    },
    {
      "cell_type": "code",
      "execution_count": null,
      "metadata": {
        "colab": {},
        "colab_type": "code",
        "id": "B1icEA1JBYm2"
      },
      "outputs": [],
      "source": [
        "conta_do_gui.deposita(100)"
      ]
    },
    {
      "cell_type": "code",
      "execution_count": null,
      "metadata": {
        "colab": {
          "base_uri": "https://localhost:8080/",
          "height": 34
        },
        "colab_type": "code",
        "id": "p_ZkStLRBc7Y",
        "outputId": "597eb930-e8c8-40f7-ddc2-cb03d19406a8"
      },
      "outputs": [],
      "source": [
        "print(contas[0])"
      ]
    },
    {
      "cell_type": "code",
      "execution_count": null,
      "metadata": {
        "colab": {
          "base_uri": "https://localhost:8080/",
          "height": 34
        },
        "colab_type": "code",
        "id": "ux-dx00DBfE5",
        "outputId": "3561a778-7c7c-4fb4-fb3b-654aaf65808a"
      },
      "outputs": [],
      "source": [
        "print(conta_do_gui)"
      ]
    },
    {
      "cell_type": "code",
      "execution_count": null,
      "metadata": {
        "colab": {
          "base_uri": "https://localhost:8080/",
          "height": 34
        },
        "colab_type": "code",
        "id": "tUeW-YgvBh69",
        "outputId": "e8b8525c-321c-4aa9-d87a-95b8dd5943b0"
      },
      "outputs": [],
      "source": [
        "print(contas[2])"
      ]
    },
    {
      "cell_type": "code",
      "execution_count": null,
      "metadata": {
        "colab": {},
        "colab_type": "code",
        "id": "FfxPIh3OB3Mi"
      },
      "outputs": [],
      "source": [
        "contas[2].deposita(300)"
      ]
    },
    {
      "cell_type": "code",
      "execution_count": null,
      "metadata": {
        "colab": {
          "base_uri": "https://localhost:8080/",
          "height": 34
        },
        "colab_type": "code",
        "id": "6KAQeXTyCCG-",
        "outputId": "09da6ae8-e507-40a6-f7b2-b3d2fe4e4cd6"
      },
      "outputs": [],
      "source": [
        "print(conta_do_gui)"
      ]
    },
    {
      "cell_type": "code",
      "execution_count": null,
      "metadata": {
        "colab": {},
        "colab_type": "code",
        "id": "FmaNTI6UCECK"
      },
      "outputs": [],
      "source": []
    }
  ],
  "metadata": {
    "colab": {
      "collapsed_sections": [],
      "name": "Introdução a Collections",
      "provenance": [],
      "version": "0.3.2"
    },
    "kernelspec": {
      "display_name": "Python 3",
      "name": "python3"
    }
  },
  "nbformat": 4,
  "nbformat_minor": 0
}
