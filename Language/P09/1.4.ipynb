{
  "cells": [
    {
      "cell_type": "code",
      "execution_count": null,
      "metadata": {
        "colab": {
          "base_uri": "https://localhost:8080/",
          "height": 84
        },
        "colab_type": "code",
        "id": "i92eaEWHL_tu",
        "outputId": "d871b668-3fcf-4b70-b76f-d0fd18a3cbfb"
      },
      "outputs": [],
      "source": [
        "idade1 = 39\n",
        "idade2 = 30\n",
        "idade3 = 27\n",
        "idade4 = 18\n",
        "\n",
        "print(idade1)\n",
        "print(idade2)\n",
        "print(idade3)\n",
        "print(idade4)"
      ]
    },
    {
      "cell_type": "code",
      "execution_count": null,
      "metadata": {
        "colab": {},
        "colab_type": "code",
        "id": "27g6sNsIMZEL"
      },
      "outputs": [],
      "source": [
        "idades = [39, 30, 27, 18]"
      ]
    },
    {
      "cell_type": "code",
      "execution_count": null,
      "metadata": {
        "colab": {
          "base_uri": "https://localhost:8080/",
          "height": 34
        },
        "colab_type": "code",
        "id": "nMoUaGF8MmuM",
        "outputId": "873010d9-0c3b-4de9-8f2e-0df91484406d"
      },
      "outputs": [],
      "source": [
        "type(idades)"
      ]
    },
    {
      "cell_type": "code",
      "execution_count": null,
      "metadata": {
        "colab": {
          "base_uri": "https://localhost:8080/",
          "height": 34
        },
        "colab_type": "code",
        "id": "693125bLMoQo",
        "outputId": "76f23b9d-f84b-4810-c835-3cf8e988e13a"
      },
      "outputs": [],
      "source": [
        "len(idades)"
      ]
    },
    {
      "cell_type": "code",
      "execution_count": null,
      "metadata": {
        "colab": {
          "base_uri": "https://localhost:8080/",
          "height": 34
        },
        "colab_type": "code",
        "id": "HhRSkKaNM70v",
        "outputId": "f0eb0381-e6cb-46b9-d80a-e5fb93ffda20"
      },
      "outputs": [],
      "source": [
        "idades[0]"
      ]
    },
    {
      "cell_type": "code",
      "execution_count": null,
      "metadata": {
        "colab": {
          "base_uri": "https://localhost:8080/",
          "height": 34
        },
        "colab_type": "code",
        "id": "7Wra5jZLM_6e",
        "outputId": "87f8d517-a653-4164-e621-982ceeae6f8b"
      },
      "outputs": [],
      "source": [
        "idades"
      ]
    },
    {
      "cell_type": "code",
      "execution_count": null,
      "metadata": {
        "colab": {
          "base_uri": "https://localhost:8080/",
          "height": 67
        },
        "colab_type": "code",
        "id": "NXyDZcsZNBJm",
        "outputId": "a06e0ef7-5766-428e-fc3d-98c893cb2ba9"
      },
      "outputs": [],
      "source": [
        "print(idades[1])\n",
        "print(idades[2])\n",
        "print(idades[3])"
      ]
    },
    {
      "cell_type": "code",
      "execution_count": null,
      "metadata": {
        "colab": {},
        "colab_type": "code",
        "id": "60CS-6vnNEzX"
      },
      "outputs": [],
      "source": [
        "idades.append(15)"
      ]
    },
    {
      "cell_type": "code",
      "execution_count": null,
      "metadata": {
        "colab": {
          "base_uri": "https://localhost:8080/",
          "height": 34
        },
        "colab_type": "code",
        "id": "LgNGaf7FNSr-",
        "outputId": "b4118e96-3abc-44f9-eb97-a187b86dcdf0"
      },
      "outputs": [],
      "source": [
        "idades"
      ]
    },
    {
      "cell_type": "code",
      "execution_count": null,
      "metadata": {
        "colab": {
          "base_uri": "https://localhost:8080/",
          "height": 34
        },
        "colab_type": "code",
        "id": "PqFCqcOvNT7h",
        "outputId": "3484bb85-8703-481d-d669-f499397c8741"
      },
      "outputs": [],
      "source": [
        "idades[4]"
      ]
    },
    {
      "cell_type": "code",
      "execution_count": null,
      "metadata": {
        "colab": {
          "base_uri": "https://localhost:8080/",
          "height": 162
        },
        "colab_type": "code",
        "id": "aCzxDZ0CNVti",
        "outputId": "da86fe7c-9f23-4f9e-cf57-a7d85750260b"
      },
      "outputs": [],
      "source": [
        "idades[5]"
      ]
    },
    {
      "cell_type": "code",
      "execution_count": null,
      "metadata": {
        "colab": {
          "base_uri": "https://localhost:8080/",
          "height": 101
        },
        "colab_type": "code",
        "id": "AXKjngwvNXLM",
        "outputId": "8e4c3efa-3cd1-424f-ef20-0ae9c306b927"
      },
      "outputs": [],
      "source": [
        "for idade in idades:\n",
        "  print(idade)"
      ]
    },
    {
      "cell_type": "code",
      "execution_count": null,
      "metadata": {
        "colab": {},
        "colab_type": "code",
        "id": "e086OjeaNmWj"
      },
      "outputs": [],
      "source": [
        "idades.remove(30)"
      ]
    },
    {
      "cell_type": "code",
      "execution_count": null,
      "metadata": {
        "colab": {
          "base_uri": "https://localhost:8080/",
          "height": 34
        },
        "colab_type": "code",
        "id": "5A6pLLh4No8s",
        "outputId": "83eb8f32-033e-410c-9aac-a17e5cea45b2"
      },
      "outputs": [],
      "source": [
        "idades"
      ]
    },
    {
      "cell_type": "code",
      "execution_count": null,
      "metadata": {
        "colab": {
          "base_uri": "https://localhost:8080/",
          "height": 162
        },
        "colab_type": "code",
        "id": "ojsePmRwNpy2",
        "outputId": "2beab908-ba71-4dff-dc8a-dd94b70f8bb4"
      },
      "outputs": [],
      "source": [
        "idades.remove(30)"
      ]
    },
    {
      "cell_type": "code",
      "execution_count": null,
      "metadata": {
        "colab": {},
        "colab_type": "code",
        "id": "kkdK3t6nNsXW"
      },
      "outputs": [],
      "source": [
        "idades.append(15)"
      ]
    },
    {
      "cell_type": "code",
      "execution_count": null,
      "metadata": {
        "colab": {
          "base_uri": "https://localhost:8080/",
          "height": 34
        },
        "colab_type": "code",
        "id": "caaWvENvNv8N",
        "outputId": "19bf6599-f2d8-4cbd-e9a5-af1968e614e3"
      },
      "outputs": [],
      "source": [
        "idades"
      ]
    },
    {
      "cell_type": "code",
      "execution_count": null,
      "metadata": {
        "colab": {},
        "colab_type": "code",
        "id": "IZC0ENA1Nwso"
      },
      "outputs": [],
      "source": [
        "idades.remove(15)"
      ]
    },
    {
      "cell_type": "code",
      "execution_count": null,
      "metadata": {
        "colab": {
          "base_uri": "https://localhost:8080/",
          "height": 34
        },
        "colab_type": "code",
        "id": "80fchrRGNx4A",
        "outputId": "5a7258c1-dd6b-46d9-c468-0b7b58819d73"
      },
      "outputs": [],
      "source": [
        "idades"
      ]
    },
    {
      "cell_type": "code",
      "execution_count": null,
      "metadata": {
        "colab": {
          "base_uri": "https://localhost:8080/",
          "height": 34
        },
        "colab_type": "code",
        "id": "yNWCUQupNycy",
        "outputId": "afde6e30-a7f1-451e-afd4-ec6e03d52cf0"
      },
      "outputs": [],
      "source": [
        "idades.append(27)\n",
        "idades.remove(27)\n",
        "idades"
      ]
    },
    {
      "cell_type": "code",
      "execution_count": null,
      "metadata": {
        "colab": {
          "base_uri": "https://localhost:8080/",
          "height": 34
        },
        "colab_type": "code",
        "id": "Kot_FAOkN3g3",
        "outputId": "9d6ff2b1-382b-4953-bdef-7b115474d749"
      },
      "outputs": [],
      "source": [
        "28 in idades"
      ]
    },
    {
      "cell_type": "code",
      "execution_count": null,
      "metadata": {
        "colab": {
          "base_uri": "https://localhost:8080/",
          "height": 34
        },
        "colab_type": "code",
        "id": "DMmSks6eOmaX",
        "outputId": "4d6cfb43-e8d1-43aa-8355-842c7a2b337e"
      },
      "outputs": [],
      "source": [
        "15 in idades"
      ]
    },
    {
      "cell_type": "code",
      "execution_count": null,
      "metadata": {
        "colab": {},
        "colab_type": "code",
        "id": "N01sbE4xOoAF"
      },
      "outputs": [],
      "source": [
        "if 15 in idades:\n",
        "  idades.remove(15)"
      ]
    },
    {
      "cell_type": "code",
      "execution_count": null,
      "metadata": {
        "colab": {
          "base_uri": "https://localhost:8080/",
          "height": 34
        },
        "colab_type": "code",
        "id": "U4Ozd7ZxOukR",
        "outputId": "6b205258-fa04-43b2-b9e9-7000c158a318"
      },
      "outputs": [],
      "source": [
        "idades"
      ]
    },
    {
      "cell_type": "code",
      "execution_count": null,
      "metadata": {
        "colab": {},
        "colab_type": "code",
        "id": "SMgSWfVsOvrr"
      },
      "outputs": [],
      "source": [
        "if 28 in idades:\n",
        "  idades.remove(28)"
      ]
    },
    {
      "cell_type": "code",
      "execution_count": null,
      "metadata": {
        "colab": {
          "base_uri": "https://localhost:8080/",
          "height": 34
        },
        "colab_type": "code",
        "id": "feOCw2UEOzaf",
        "outputId": "c422c2ec-8203-4ca2-f680-4d517ed2a340"
      },
      "outputs": [],
      "source": [
        "idades"
      ]
    },
    {
      "cell_type": "code",
      "execution_count": null,
      "metadata": {
        "colab": {
          "base_uri": "https://localhost:8080/",
          "height": 34
        },
        "colab_type": "code",
        "id": "v9GOmJkDO0QH",
        "outputId": "4328f9e5-29f0-483e-8e1f-de9cbc459284"
      },
      "outputs": [],
      "source": [
        "idades.append(19)\n",
        "idades"
      ]
    },
    {
      "cell_type": "code",
      "execution_count": null,
      "metadata": {
        "colab": {
          "base_uri": "https://localhost:8080/",
          "height": 34
        },
        "colab_type": "code",
        "id": "EXZzTRCWO6LU",
        "outputId": "986d05a8-b345-4bbc-f34f-b087f9d4957d"
      },
      "outputs": [],
      "source": [
        "idades.insert(0, 20)\n",
        "idades"
      ]
    },
    {
      "cell_type": "code",
      "execution_count": null,
      "metadata": {
        "colab": {
          "base_uri": "https://localhost:8080/",
          "height": 34
        },
        "colab_type": "code",
        "id": "yQ6QIHbVPDJm",
        "outputId": "22d62c05-88e7-4041-be71-eeba0d17e932"
      },
      "outputs": [],
      "source": [
        "idades = [20, 39, 18]\n",
        "idades"
      ]
    },
    {
      "cell_type": "code",
      "execution_count": null,
      "metadata": {
        "colab": {},
        "colab_type": "code",
        "id": "1x5IZ3LxPKFw"
      },
      "outputs": [],
      "source": [
        "idades.append([27, 19])"
      ]
    },
    {
      "cell_type": "code",
      "execution_count": null,
      "metadata": {
        "colab": {
          "base_uri": "https://localhost:8080/",
          "height": 34
        },
        "colab_type": "code",
        "id": "pbjqVYWcPNfa",
        "outputId": "5a1b5d0b-66b9-40a0-a820-94842fe5d1ca"
      },
      "outputs": [],
      "source": [
        "idades"
      ]
    },
    {
      "cell_type": "code",
      "execution_count": null,
      "metadata": {
        "colab": {
          "base_uri": "https://localhost:8080/",
          "height": 84
        },
        "colab_type": "code",
        "id": "YJndRY-ZPTb8",
        "outputId": "325e4c82-69ed-432d-f692-0030bf920a09"
      },
      "outputs": [],
      "source": [
        "for elemento in idades:\n",
        "  print(\"Recebi o elemento\", elemento)"
      ]
    },
    {
      "cell_type": "code",
      "execution_count": null,
      "metadata": {
        "colab": {
          "base_uri": "https://localhost:8080/",
          "height": 34
        },
        "colab_type": "code",
        "id": "Rt1JRcrIPZVL",
        "outputId": "34ef7b0d-bc95-4ec6-99eb-71ecfeca83d2"
      },
      "outputs": [],
      "source": [
        "idades = [20, 39, 18]\n",
        "idades.extend([27, 19])\n",
        "idades"
      ]
    },
    {
      "cell_type": "code",
      "execution_count": null,
      "metadata": {
        "colab": {
          "base_uri": "https://localhost:8080/",
          "height": 101
        },
        "colab_type": "code",
        "id": "2TqBUj41PwzS",
        "outputId": "f6e4e9bb-f866-4fb0-bc5a-2be373185544"
      },
      "outputs": [],
      "source": [
        "for idade in idades:\n",
        "  print(idade + 1)"
      ]
    },
    {
      "cell_type": "code",
      "execution_count": null,
      "metadata": {
        "colab": {
          "base_uri": "https://localhost:8080/",
          "height": 34
        },
        "colab_type": "code",
        "id": "-zU67OikQCJq",
        "outputId": "93a76c21-4b69-47a4-dcd9-5b42fce70b30"
      },
      "outputs": [],
      "source": [
        "idades_no_ano_que_vem = []\n",
        "for idade in idades:\n",
        "  idades_no_ano_que_vem.append(idade+1)\n",
        "idades_no_ano_que_vem"
      ]
    },
    {
      "cell_type": "code",
      "execution_count": null,
      "metadata": {
        "colab": {
          "base_uri": "https://localhost:8080/",
          "height": 34
        },
        "colab_type": "code",
        "id": "P50Oyp-EQQrC",
        "outputId": "bc1c0261-05af-46d1-a8d5-fc9957afdf9d"
      },
      "outputs": [],
      "source": [
        "idades_no_ano_que_vem = [idade+1 for idade in idades]\n",
        "idades_no_ano_que_vem"
      ]
    },
    {
      "cell_type": "code",
      "execution_count": null,
      "metadata": {
        "colab": {
          "base_uri": "https://localhost:8080/",
          "height": 34
        },
        "colab_type": "code",
        "id": "QdPT5ougQmvS",
        "outputId": "e6f6defd-e799-4208-dcd4-7477944a123e"
      },
      "outputs": [],
      "source": [
        "[idade for idade in idades if idade > 21]"
      ]
    },
    {
      "cell_type": "code",
      "execution_count": null,
      "metadata": {
        "colab": {
          "base_uri": "https://localhost:8080/",
          "height": 34
        },
        "colab_type": "code",
        "id": "25Mg6X9zQ-U5",
        "outputId": "ff1c9ce9-0df4-434c-cd70-0c78d28c23df"
      },
      "outputs": [],
      "source": [
        "idades"
      ]
    },
    {
      "cell_type": "code",
      "execution_count": null,
      "metadata": {
        "colab": {
          "base_uri": "https://localhost:8080/",
          "height": 34
        },
        "colab_type": "code",
        "id": "feAiRsuTRAQ0",
        "outputId": "46cfc170-4f7a-4804-b8f1-a6efcb573247"
      },
      "outputs": [],
      "source": [
        "def proximo_ano(idade):\n",
        "  return idade+1\n",
        "\n",
        "[proximo_ano(idade) for idade in idades if idade > 21]"
      ]
    },
    {
      "cell_type": "code",
      "execution_count": null,
      "metadata": {
        "colab": {},
        "colab_type": "code",
        "id": "zHFn9PYHSY3Z"
      },
      "outputs": [],
      "source": [
        "def faz_processamento_de_visualizacao(lista):\n",
        "  print(len(lista))\n",
        "  lista.append(13)"
      ]
    },
    {
      "cell_type": "code",
      "execution_count": null,
      "metadata": {
        "colab": {
          "base_uri": "https://localhost:8080/",
          "height": 50
        },
        "colab_type": "code",
        "id": "7nWLQ7t-SqT3",
        "outputId": "74ee7eec-880e-4f4f-9fb7-26e84d1551ba"
      },
      "outputs": [],
      "source": [
        "idades = [16, 21, 29, 56, 43]\n",
        "faz_processamento_de_visualizacao(idades)\n",
        "idades"
      ]
    },
    {
      "cell_type": "code",
      "execution_count": null,
      "metadata": {
        "colab": {},
        "colab_type": "code",
        "id": "k8n9XUouSvXc"
      },
      "outputs": [],
      "source": [
        "def faz_processamento_de_visualizacao(lista = []):\n",
        "  print(len(lista))\n",
        "  print(lista)\n",
        "  lista.append(13)"
      ]
    },
    {
      "cell_type": "code",
      "execution_count": null,
      "metadata": {
        "colab": {
          "base_uri": "https://localhost:8080/",
          "height": 50
        },
        "colab_type": "code",
        "id": "p-KkKf-6Tplr",
        "outputId": "8ca509de-6b48-4830-b59f-74f5fceaebf4"
      },
      "outputs": [],
      "source": [
        "faz_processamento_de_visualizacao()"
      ]
    },
    {
      "cell_type": "code",
      "execution_count": null,
      "metadata": {
        "colab": {
          "base_uri": "https://localhost:8080/",
          "height": 50
        },
        "colab_type": "code",
        "id": "29p5f7fOTs9h",
        "outputId": "ef5e7ae5-5954-4079-e522-fbd4a036f3ff"
      },
      "outputs": [],
      "source": [
        "faz_processamento_de_visualizacao()"
      ]
    },
    {
      "cell_type": "code",
      "execution_count": null,
      "metadata": {
        "colab": {
          "base_uri": "https://localhost:8080/",
          "height": 50
        },
        "colab_type": "code",
        "id": "DWP6B6DuTu0j",
        "outputId": "2418fd1d-0ec9-4ec7-b86c-3351c8fd7e99"
      },
      "outputs": [],
      "source": [
        "faz_processamento_de_visualizacao()"
      ]
    },
    {
      "cell_type": "code",
      "execution_count": null,
      "metadata": {
        "colab": {
          "base_uri": "https://localhost:8080/",
          "height": 50
        },
        "colab_type": "code",
        "id": "HYbSLIiSTwOB",
        "outputId": "ed417dc4-53a9-423e-b624-ad924a230e2a"
      },
      "outputs": [],
      "source": [
        "faz_processamento_de_visualizacao()"
      ]
    },
    {
      "cell_type": "code",
      "execution_count": null,
      "metadata": {
        "colab": {},
        "colab_type": "code",
        "id": "vS-8-DHiTxdh"
      },
      "outputs": [],
      "source": [
        "def faz_processamento_de_visualizacao(lista = list()):\n",
        "  print(len(lista))\n",
        "  print(lista)\n",
        "  lista.append(13)"
      ]
    },
    {
      "cell_type": "code",
      "execution_count": null,
      "metadata": {
        "colab": {
          "base_uri": "https://localhost:8080/",
          "height": 85
        },
        "colab_type": "code",
        "id": "lCMngXMGUKli",
        "outputId": "996f93dd-a52b-4531-cc93-a8f1a852134b"
      },
      "outputs": [],
      "source": [
        "faz_processamento_de_visualizacao()\n",
        "faz_processamento_de_visualizacao()"
      ]
    },
    {
      "cell_type": "code",
      "execution_count": null,
      "metadata": {
        "colab": {},
        "colab_type": "code",
        "id": "5sMp0XuKUMVf"
      },
      "outputs": [],
      "source": [
        "def faz_processamento_de_visualizacao(lista = None):\n",
        "  if lista == None:\n",
        "    lista = list()\n",
        "  print(len(lista))\n",
        "  print(lista)\n",
        "  lista.append(13)"
      ]
    },
    {
      "cell_type": "code",
      "execution_count": null,
      "metadata": {
        "colab": {
          "base_uri": "https://localhost:8080/",
          "height": 153
        },
        "colab_type": "code",
        "id": "2LxsmPtaUU-D",
        "outputId": "c686cb61-1678-478e-8aa5-f7bc79aa58d5"
      },
      "outputs": [],
      "source": [
        "faz_processamento_de_visualizacao()\n",
        "faz_processamento_de_visualizacao()\n",
        "faz_processamento_de_visualizacao()\n",
        "faz_processamento_de_visualizacao()"
      ]
    }
  ],
  "metadata": {
    "colab": {
      "collapsed_sections": [],
      "name": "Introdução a Collections",
      "provenance": [],
      "version": "0.3.2"
    },
    "kernelspec": {
      "display_name": "Python 3",
      "name": "python3"
    }
  },
  "nbformat": 4,
  "nbformat_minor": 0
}
